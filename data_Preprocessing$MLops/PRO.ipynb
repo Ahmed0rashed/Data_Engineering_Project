{
 "cells": [
  {
   "cell_type": "markdown",
   "metadata": {},
   "source": [
    "Flow of the Code:\n",
    "\n",
    "1.Preprocessing: Text data is cleaned.\n",
    "\n",
    "2.Labeling: Sentiments are labeled based on positive/negative reviews.\n",
    "\n",
    "3.Feature Extraction: TF-IDF vectorization converts the text into numerical data.\n",
    "\n",
    "4.Imbalance Handling: SMOTE handles the class imbalance.\n",
    "\n",
    "5.Model Training: Logistic Regression.\n",
    "\n",
    "6.Evaluation: Model performance is evaluated with MLflow."
   ]
  },
  {
   "cell_type": "markdown",
   "metadata": {},
   "source": [
    "1. Import Libraries"
   ]
  },
  {
   "cell_type": "code",
   "execution_count": 1,
   "metadata": {},
   "outputs": [],
   "source": [
    "import pandas as pd\n",
    "import numpy as np\n",
    "import re\n",
    "import spacy\n",
    "from sklearn.feature_extraction.text import TfidfVectorizer\n",
    "from sklearn.model_selection import train_test_split, StratifiedKFold, cross_val_score\n",
    "from sklearn.linear_model import LogisticRegression\n",
    "from sklearn.metrics import classification_report, accuracy_score, confusion_matrix\n",
    "import mlflow\n",
    "import mlflow.sklearn\n",
    "from imblearn.over_sampling import SMOTE\n"
   ]
  },
  {
   "cell_type": "markdown",
   "metadata": {},
   "source": [
    "2. SpaCy Model Loading"
   ]
  },
  {
   "cell_type": "code",
   "execution_count": 2,
   "metadata": {},
   "outputs": [],
   "source": [
    "# Load SpaCy's English model (disable unnecessary components)\n",
    "nlp = spacy.load('en_core_web_sm', disable=[\"parser\", \"ner\"])"
   ]
  },
  {
   "cell_type": "markdown",
   "metadata": {},
   "source": [
    "3. Loading the Dataset"
   ]
  },
  {
   "cell_type": "code",
   "execution_count": 3,
   "metadata": {},
   "outputs": [],
   "source": [
    "# Load the dataset\n",
    "df = pd.read_csv('Hotel_Reviews.csv')"
   ]
  },
  {
   "cell_type": "markdown",
   "metadata": {},
   "source": [
    "4. Preprocessing Function\n",
    "(Lemmatization and Stopword Removal)"
   ]
  },
  {
   "cell_type": "code",
   "execution_count": 4,
   "metadata": {},
   "outputs": [],
   "source": [
    "# Preprocessing function (with batch processing and disabling unused components)\n",
    "def preprocess_texts(texts):\n",
    "    cleaned_texts = []\n",
    "    for doc in nlp.pipe(texts, batch_size=1000):\n",
    "        tokens = [token.lemma_ for token in doc if not token.is_stop and token.is_alpha]\n",
    "        cleaned_texts.append(' '.join(tokens))\n",
    "    return cleaned_texts"
   ]
  },
  {
   "cell_type": "markdown",
   "metadata": {},
   "source": [
    "5. Combining and Preprocessing Reviews\n"
   ]
  },
  {
   "cell_type": "code",
   "execution_count": 5,
   "metadata": {},
   "outputs": [],
   "source": [
    "# Combine reviews and apply preprocessing with batch processing\n",
    "df['cleaned_review'] = preprocess_texts(df['Positive_Review'] + ' ' + df['Negative_Review'])\n"
   ]
  },
  {
   "cell_type": "markdown",
   "metadata": {},
   "source": [
    "6. Sentiment Labeling\n"
   ]
  },
  {
   "cell_type": "code",
   "execution_count": 6,
   "metadata": {},
   "outputs": [],
   "source": [
    "# Label sentiment\n",
    "def label_sentiment(row):\n",
    "    if row['Negative_Review'].strip() == 'No Negative':\n",
    "        return 1  # Positive\n",
    "    elif row['Positive_Review'].strip() == 'No Positive':\n",
    "        return -1  # Negative\n",
    "    else:\n",
    "        return 0  # Neutral"
   ]
  },
  {
   "cell_type": "markdown",
   "metadata": {},
   "source": [
    "7. Class Distribution Check\n"
   ]
  },
  {
   "cell_type": "code",
   "execution_count": 8,
   "metadata": {},
   "outputs": [
    {
     "name": "stdout",
     "output_type": "stream",
     "text": [
      "Original class distribution: Sentiment\n",
      " 0    352029\n",
      " 1    127890\n",
      "-1     35819\n",
      "Name: count, dtype: int64\n"
     ]
    }
   ],
   "source": [
    "# Handle class imbalance\n",
    "print(\"Original class distribution:\", df['Sentiment'].value_counts())\n"
   ]
  },
  {
   "cell_type": "markdown",
   "metadata": {},
   "source": [
    "8. TF-IDF Vectorization\n"
   ]
  },
  {
   "cell_type": "code",
   "execution_count": 9,
   "metadata": {},
   "outputs": [],
   "source": [
    "# Initialize TF-IDF Vectorizer with n-grams\n",
    "tfidf = TfidfVectorizer(ngram_range=(1,2), max_features=1500, max_df=0.8, min_df=0.01)\n",
    "X = tfidf.fit_transform(df['cleaned_review'])\n",
    "y = df['Sentiment']"
   ]
  },
  {
   "cell_type": "markdown",
   "metadata": {},
   "source": [
    "9. Train-Test Split\n"
   ]
  },
  {
   "cell_type": "code",
   "execution_count": null,
   "metadata": {},
   "outputs": [],
   "source": [
    "# Split the data with stratification\n",
    "X_train, X_test, y_train, y_test = train_test_split(\n",
    "    X, y, test_size=0.3, random_state=42, stratify=y\n",
    ")\n"
   ]
  },
  {
   "cell_type": "markdown",
   "metadata": {},
   "source": [
    "10. Handling Class Imbalance (SMOTE)\n"
   ]
  },
  {
   "cell_type": "code",
   "execution_count": null,
   "metadata": {},
   "outputs": [],
   "source": [
    "# Handle class imbalance using SMOTE\n",
    "smote = SMOTE(random_state=42)\n",
    "X_train_resampled, y_train_resampled = smote.fit_resample(X_train, y_train)"
   ]
  },
  {
   "cell_type": "code",
   "execution_count": null,
   "metadata": {},
   "outputs": [
    {
     "name": "stdout",
     "output_type": "stream",
     "text": [
      "Resampled class distribution: [246420 246420 246420]\n"
     ]
    }
   ],
   "source": [
    "print(\"Resampled class distribution:\", np.bincount(y_train_resampled + 1))"
   ]
  },
  {
   "cell_type": "markdown",
   "metadata": {},
   "source": [
    "11. Logistic Regression Model and Cross-Validation\n"
   ]
  },
  {
   "cell_type": "code",
   "execution_count": null,
   "metadata": {},
   "outputs": [],
   "source": [
    "# Initialize Logistic Regression\n",
    "model = LogisticRegression(max_iter=200)\n",
    "# Cross-validation\n",
    "cv = StratifiedKFold(n_splits=5, shuffle=True, random_state=42)\n",
    "scores = cross_val_score( model, X_train_resampled, y_train_resampled, cv=cv, scoring='f1_macro')"
   ]
  },
  {
   "cell_type": "markdown",
   "metadata": {},
   "source": [
    "12. Model Training and Evaluation with MLflow\n"
   ]
  },
  {
   "cell_type": "code",
   "execution_count": null,
   "metadata": {},
   "outputs": [
    {
     "name": "stdout",
     "output_type": "stream",
     "text": [
      "Classification Report:\n",
      "              precision    recall  f1-score   support\n",
      "\n",
      "          -1     0.9873    0.9963    0.9918     10746\n",
      "           0     0.9986    0.9938    0.9962    105609\n",
      "           1     0.9865    0.9971    0.9918     38367\n",
      "\n",
      "    accuracy                         0.9948    154722\n",
      "   macro avg     0.9908    0.9957    0.9932    154722\n",
      "weighted avg     0.9948    0.9948    0.9948    154722\n",
      "\n",
      "Confusion Matrix:\n",
      "[[ 10706     35      5]\n",
      " [   138 104952    519]\n",
      " [     0    110  38257]]\n",
      "Accuracy: 0.9947841935859154\n"
     ]
    },
    {
     "name": "stderr",
     "output_type": "stream",
     "text": [
      "2024/10/18 04:09:59 WARNING mlflow.models.model: Model logged without a signature and input example. Please set `input_example` parameter when logging the model to auto infer the model signature.\n",
      "2024/10/18 04:10:00 WARNING mlflow.sklearn: Model was missing function: predict. Not logging python_function flavor!\n",
      "2024/10/18 04:10:05 WARNING mlflow.models.model: Model logged without a signature and input example. Please set `input_example` parameter when logging the model to auto infer the model signature.\n"
     ]
    }
   ],
   "source": [
    "# Start MLflow run\n",
    "with mlflow.start_run():\n",
    "    model.fit(X_train_resampled, y_train_resampled)\n",
    "    \n",
    "    # Make predictions\n",
    "    y_pred = model.predict(X_test)\n",
    "\n",
    "    # Evaluate model performance\n",
    "    accuracy = accuracy_score(y_test, y_pred)\n",
    "    report = classification_report(y_test, y_pred, digits=4)\n",
    "    cm = confusion_matrix(y_test, y_pred)\n",
    "    \n",
    "    print(\"Classification Report:\")\n",
    "    print(report)\n",
    "    print(\"Confusion Matrix:\")\n",
    "    print(cm)\n",
    "    print(\"Accuracy:\", accuracy)\n",
    "\n",
    "    # Log parameters, metrics, and models to MLflow\n",
    "    mlflow.log_param(\"max_iter\", 200)\n",
    "    mlflow.log_param(\"resampling\", \"SMOTE\")\n",
    "    mlflow.log_metric(\"accuracy\", accuracy)\n",
    "    mlflow.log_metric(\"f1_macro\", scores.mean())\n",
    "    mlflow.sklearn.log_model(model, \"model\")\n",
    "    mlflow.sklearn.log_model(tfidf, \"tfidf_vectorizer\")"
   ]
  }
 ],
 "metadata": {
  "kernelspec": {
   "display_name": "Python 3",
   "language": "python",
   "name": "python3"
  },
  "language_info": {
   "codemirror_mode": {
    "name": "ipython",
    "version": 3
   },
   "file_extension": ".py",
   "mimetype": "text/x-python",
   "name": "python",
   "nbconvert_exporter": "python",
   "pygments_lexer": "ipython3",
   "version": "3.12.1"
  }
 },
 "nbformat": 4,
 "nbformat_minor": 2
}
